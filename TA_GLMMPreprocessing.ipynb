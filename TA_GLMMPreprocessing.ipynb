{
 "cells": [
  {
   "cell_type": "markdown",
   "metadata": {
    "deletable": true,
    "editable": true
   },
   "source": [
    "# Part 3: GLMM Analysis\n"
   ]
  },
  {
   "cell_type": "markdown",
   "metadata": {
    "deletable": true,
    "editable": true
   },
   "source": [
    "## 1. Creating the model predictors using GridFix\n",
    "\n",
    "In this part of the tutorial, we will use the grid and image features defined in the previous chapters to create a GLMM predictor matrix and output some model code for R. First, let's reproduce the analysis from previous chapters and add some features that might influence each grid cell's fixation probability:"
   ]
  },
  {
   "cell_type": "code",
   "execution_count": 6,
   "metadata": {
    "collapsed": false,
    "deletable": true,
    "editable": true
   },
   "outputs": [],
   "source": [
    "%matplotlib inline\n",
    "\n",
    "import numpy as np\n",
    "import matplotlib as mp\n",
    "import matplotlib.pyplot as plt\n",
    "\n",
    "from gridfix import *\n",
    "\n",
    "# Load images and define 8x6 grid from part 1\n",
    "TA_images = ImageSet('TA_images/TA_images.tsv', label='TA_images')\n",
    "TA_grid = GridRegionSet(size=TA_images.size, gridsize=(32,20), label='TA_grid')\n",
    "\n",
    "# Define some simple features from part 2\n",
    "TA_fLum = LuminanceFeature(TA_grid, TA_images)\n",
    "TA_fEdge = SobelEdgeFeature(TA_grid, TA_images)\n",
    "TA_fCent = CentralBiasFeature(TA_grid, TA_images, measure='gaussian', sig2=0.23, nu=0.45)\n",
    "\n",
    "# Load IKN98 feature maps and define a MapFeature\n",
    "TA_saliency_maps = ImageSet('TA_saliency/TA_saliency.tsv', label='TA_saliency')\n",
    "TA_fIKN = MapFeature(TA_grid, TA_saliency_maps, stat=np.mean)\n",
    "\n",
    "TA_reward_maps = ImageSet('TA_reward/TA_reward.tsv', label='TA_reward')\n",
    "TA_fReward = MapFeature(TA_grid, TA_reward_maps, stat=np.mean)\n",
    "\n",
    "# Load fixation data\n",
    "TA_fix = Fixations('TA_fixations.tsv', imageid='image_id', fixid='CURRENT_FIX_INDEX', \n",
    "                x='CURRENT_FIX_X', y='CURRENT_FIX_Y', imageset=TA_images)\n"
   ]
  },
  {
   "cell_type": "markdown",
   "metadata": {},
   "source": [
    "Now the actual GLMM preprocessing can be performed using a _FixationModel_ object which combines fixation data, RegionSet and all features specified in the _features=_ argument into a common predictor matrix, which can then be loaded into R. With a big dataset, this could take a while, but for this tutorial, updating the model should be a matter of a few seconds. Note that the _chunks=_ argument specifies the names of columns over which data should not be aggregated, e.g. individual subjects, while the _features=_ argument contains a Python list of the actual Feature objects defined above.\n",
    "\n",
    "In our example, this predictor matrix contains one line for each subject, image and grid cell, which will yield 8 x 15 x 48 = 5760 individual data points to be entered into GLMM. We can print the resulting model object to verify this:"
   ]
  },
  {
   "cell_type": "code",
   "execution_count": 7,
   "metadata": {
    "collapsed": false,
    "deletable": true,
    "editable": true,
    "scrolled": true
   },
   "outputs": [
    {
     "name": "stderr",
     "output_type": "stream",
     "text": [
      "/Users/zhangwenhu/Desktop/gridfix/gridfix/model.py:1378: FutureWarning: The behavior of DataFrame concatenation with empty or all-NA entries is deprecated. In a future version, this will no longer exclude empty or all-NA columns when determining the result dtypes. To retain the old behavior, exclude the relevant entries before the concat operation.\n",
      "  pred_new = concat([pred_new, results], ignore_index=True)\n"
     ]
    },
    {
     "name": "stdout",
     "output_type": "stream",
     "text": [
      "<gridfix.FixationModel, 208640 samples, DV=['fixated'], chunked by: ['TRIAL_INDEX', 'image_id']>\n",
      "Fixations:\n",
      "\t<gridfix.Fixations data set, 2485 samples, 33 images>\n",
      "Images:\n",
      "\t<gridfix.ImageSet \"TA_images\", 33 images, size=(512, 320), normalized>\n",
      "Regions:\n",
      "\t<gridfix.GridRegionSet (TA_grid), size=(512, 320), 32x20 grid, 640 cells, memory=102400.0 kB>\n",
      "\n",
      "Features:\n",
      "\tfLumin\tLuminanceFeature\n",
      "\tfCentr\tCentralBiasFeature\n",
      "\tfSobel\tSobelEdgeFeature\n",
      "\tfMapFe\tMapFeature\n",
      "\tfMapFe1\tMapFeature\n",
      "\n"
     ]
    }
   ],
   "source": [
    "TA_model = FixationModel(TA_fix, TA_grid, chunks=['TRIAL_INDEX', 'image_id'], features=[TA_fLum, TA_fCent, TA_fEdge, TA_fIKN, TA_fReward], dv_type='fixated')\n",
    "print(TA_model)"
   ]
  },
  {
   "cell_type": "markdown",
   "metadata": {},
   "source": [
    "The resulting predictor matrix now contains one row per combination of image and region (and possible other variables used for chunking in the model specification, such as the subject id). Within each row, the column _dvFix_ indicates the fixation state of each cell, i.e., whether it was fixated (1) or not (0), while the remaining columns contain the feature values for the corresponding regions - here, mean cell luminance (fLumin) and distance from image center following an anisotropic Gaussian CB model (fCentr). \n",
    "\n",
    "The predictor matrix can be accessed as a DataFrame using the _predictors_ attribute of the generated model object:"
   ]
  },
  {
   "cell_type": "code",
   "execution_count": 8,
   "metadata": {
    "collapsed": false,
    "deletable": true,
    "editable": true
   },
   "outputs": [
    {
     "name": "stdout",
     "output_type": "stream",
     "text": [
      "       TRIAL_INDEX image_id regionid regionno  dvFix    fLumin    fCentr  \\\n",
      "0                5   199634        1        1    0.0  0.050991  0.976304   \n",
      "1                5   199634        2        2    0.0  0.809459  0.969414   \n",
      "2                5   199634        3        3    0.0  0.791384  0.961189   \n",
      "3                5   199634        4        4    0.0  0.754309  0.951584   \n",
      "4                5   199634        5        5    0.0  0.554212  0.940623   \n",
      "...            ...      ...      ...      ...    ...       ...       ...   \n",
      "208635         332   439224      636      636    0.0  0.433241  0.942654   \n",
      "208636         332   439224      637      637    0.0  0.237555  0.953290   \n",
      "208637         332   439224      638      638    0.0  0.000000  0.962596   \n",
      "208638         332   439224      639      639    0.0  0.000000  0.970555   \n",
      "208639         332   439224      640      640    0.0  0.000000  0.977212   \n",
      "\n",
      "          fSobel    fMapFe   fMapFe1  \n",
      "0       0.125000  0.058824  0.004902  \n",
      "1       0.000000  0.058824  0.009804  \n",
      "2       0.000000  0.058824  0.000368  \n",
      "3       0.000000  0.058824  0.005270  \n",
      "4       0.062500  0.058824  0.006863  \n",
      "...          ...       ...       ...  \n",
      "208635  0.089844  0.066667  0.004132  \n",
      "208636  0.152344  0.066667  0.001420  \n",
      "208637  0.000000  0.066667  0.000387  \n",
      "208638  0.000000  0.066667  0.000000  \n",
      "208639  0.000000  0.066667  0.000000  \n",
      "\n",
      "[208640 rows x 10 columns]\n"
     ]
    }
   ],
   "source": [
    "print(TA_model.predictors)"
   ]
  },
  {
   "cell_type": "markdown",
   "metadata": {},
   "source": [
    "To facilitate analysis of the generated predictor matrix in R, GridFix also generates R source code that contains the necessary commands to import the generated data file, define factors, standardize predictors and set up a model formula. This can serve as a starting point for analysis but should be adapted to the individual factor structure of each hypothesis and dataset - as a reminder, the actual call to _glmer_ is commented out. \n",
    "\n",
    "The _model.save()_ function saves both the predictor matrix and the R code to files to be read into R. Note that the file name argument should be the _base name_ of generated files, e.g., model.save(\"tutorial\") will generate tutorial.csv and tutorial.R."
   ]
  },
  {
   "cell_type": "code",
   "execution_count": 9,
   "metadata": {
    "collapsed": false,
    "deletable": true,
    "editable": true,
    "scrolled": false
   },
   "outputs": [
    {
     "name": "stdout",
     "output_type": "stream",
     "text": [
      "# GridFix GLMM R source, generated on 27.05.24, 01:02:58\n",
      "# \n",
      "# Predictor file:\tgridfix.csv\n",
      "# Fixations file:\tTA_fixations.tsv\n",
      "# RegionSet:\t\t<gridfix.GridRegionSet (TA_grid), size=(512, 320), 32x20 grid, 640 cells, memory=102400.0 kB>\n",
      "# DV type(s):\t\t['fixated']\n",
      "\n",
      "library(lme4)\n",
      "\n",
      "gridfixdata  <- read.table(\"gridfix.csv\", header=T, sep=\"\\t\", row.names=NULL)\n",
      "\n",
      "# Define R factors for all chunking variables and group dummy codes\n",
      "gridfixdata$TRIAL_INDEX <- as.factor(gridfixdata$TRIAL_INDEX)\n",
      "gridfixdata$image_id <- as.factor(gridfixdata$image_id)\n",
      "\n",
      "# Center and scale predictors\n",
      "gridfixdata$fLumin_C <- scale(gridfixdata$fLumin, center=TRUE, scale=TRUE)\n",
      "gridfixdata$fCentr_C <- scale(gridfixdata$fCentr, center=TRUE, scale=TRUE)\n",
      "gridfixdata$fSobel_C <- scale(gridfixdata$fSobel, center=TRUE, scale=TRUE)\n",
      "gridfixdata$fMapFe_C <- scale(gridfixdata$fMapFe, center=TRUE, scale=TRUE)\n",
      "gridfixdata$fMapFe1_C <- scale(gridfixdata$fMapFe1, center=TRUE, scale=TRUE)\n",
      "\n",
      "# NOTE: this source code can only serve as a scaffolding for your own analysis!\n",
      "# You MUST adapt the GLMM model formula below to your model, then uncomment the corresponding line!\n",
      "# DV: fixated\n",
      "#model.fixated <- glmer(dvFix ~ 1 + fLumin_C  + fCentr_C  + fSobel_C  + fMapFe_C  + fMapFe1_C  + (1 | image_id), data=gridfixdata, family=binomial)\n",
      "\n",
      "save(file=\"gridfix_GLMM.Rdata\", list = c(\"model.fixated\"))\n",
      "\n",
      "print(summary(model))\n",
      "\n"
     ]
    }
   ],
   "source": [
    "# Print the source code here as an example\n",
    "print(TA_model.r_source())\n",
    "\n",
    "TA_model.save('TA_model')"
   ]
  }
 ],
 "metadata": {
  "kernelspec": {
   "display_name": "Python 3",
   "language": "python",
   "name": "python3"
  },
  "language_info": {
   "codemirror_mode": {
    "name": "ipython",
    "version": 3
   },
   "file_extension": ".py",
   "mimetype": "text/x-python",
   "name": "python",
   "nbconvert_exporter": "python",
   "pygments_lexer": "ipython3",
   "version": "3.11.7"
  }
 },
 "nbformat": 4,
 "nbformat_minor": 0
}
