{
 "cells": [
  {
   "cell_type": "markdown",
   "metadata": {
    "deletable": true,
    "editable": true
   },
   "source": [
    "# Part 3: GLMM Analysis\n"
   ]
  },
  {
   "cell_type": "markdown",
   "metadata": {
    "deletable": true,
    "editable": true
   },
   "source": [
    "## 1. Creating the model predictors using GridFix\n",
    "\n",
    "In this part of the tutorial, we will use the grid and image features defined in the previous chapters to create a GLMM predictor matrix and output some model code for R. First, let's reproduce the analysis from previous chapters and add some features that might influence each grid cell's fixation probability:"
   ]
  },
  {
   "cell_type": "code",
   "execution_count": 1,
   "metadata": {
    "collapsed": false,
    "deletable": true,
    "editable": true
   },
   "outputs": [],
   "source": [
    "%matplotlib inline\n",
    "\n",
    "import numpy as np\n",
    "import matplotlib as mp\n",
    "import matplotlib.pyplot as plt\n",
    "\n",
    "from gridfix import *\n",
    "\n",
    "# Load images and define 8x6 grid from part 1\n",
    "TP_images = ImageSet('TP_images/TP_images.tsv', label='TP_images')\n",
    "TP_grid = GridRegionSet(size=TP_images.size, gridsize=(32,20), label='TP_grid')\n",
    "\n",
    "# Define some simple features from part 2\n",
    "TP_fLum = LuminanceFeature(TP_grid, TP_images)\n",
    "TP_fEdge = SobelEdgeFeature(TP_grid, TP_images)\n",
    "TP_fCent = CentralBiasFeature(TP_grid, TP_images, measure='gaussian', sig2=0.23, nu=0.45)\n",
    "\n",
    "# Load IKN98 feature maps and define a MapFeature\n",
    "TP_saliency_maps = ImageSet('TP_saliency/TP_saliency.tsv', label='TP_saliency')\n",
    "TP_fIKN = MapFeature(TP_grid, TP_saliency_maps, stat=np.mean)\n",
    "\n",
    "TP_reward_maps = ImageSet('TP_reward/TP_reward.tsv', label='TP_reward')\n",
    "TP_fReward = MapFeature(TP_grid, TP_reward_maps, stat=np.mean)\n",
    "\n",
    "# Load fixation data\n",
    "TP_fix = Fixations('TP_fixations.tsv', imageid='image_id', fixid='CURRENT_FIX_INDEX', \n",
    "                x='CURRENT_FIX_X', y='CURRENT_FIX_Y', imageset=TP_images)\n"
   ]
  },
  {
   "cell_type": "markdown",
   "metadata": {},
   "source": [
    "Now the actual GLMM preprocessing can be performed using a _FixationModel_ object which combines fixation data, RegionSet and all features specified in the _features=_ argument into a common predictor matrix, which can then be loaded into R. With a big dataset, this could take a while, but for this tutorial, updating the model should be a matter of a few seconds. Note that the _chunks=_ argument specifies the names of columns over which data should not be aggregated, e.g. individual subjects, while the _features=_ argument contains a Python list of the actual Feature objects defined above.\n",
    "\n",
    "In our example, this predictor matrix contains one line for each subject, image and grid cell, which will yield 8 x 15 x 48 = 5760 individual data points to be entered into GLMM. We can print the resulting model object to verify this:"
   ]
  },
  {
   "cell_type": "code",
   "execution_count": 2,
   "metadata": {
    "collapsed": false,
    "deletable": true,
    "editable": true,
    "scrolled": true
   },
   "outputs": [
    {
     "name": "stderr",
     "output_type": "stream",
     "text": [
      "/Users/zhangwenhu/Desktop/gridfix/gridfix/model.py:1378: FutureWarning: The behavior of DataFrame concatenation with empty or all-NA entries is deprecated. In a future version, this will no longer exclude empty or all-NA columns when determining the result dtypes. To retain the old behavior, exclude the relevant entries before the concat operation.\n",
      "  pred_new = concat([pred_new, results], ignore_index=True)\n"
     ]
    },
    {
     "name": "stdout",
     "output_type": "stream",
     "text": [
      "<gridfix.FixationModel, 208640 samples, DV=['fixated'], chunked by: ['TRIAL_INDEX', 'image_id']>\n",
      "Fixations:\n",
      "\t<gridfix.Fixations data set, 2091 samples, 33 images>\n",
      "Images:\n",
      "\t<gridfix.ImageSet \"TP_images\", 33 images, size=(512, 320), normalized>\n",
      "Regions:\n",
      "\t<gridfix.GridRegionSet (TP_grid), size=(512, 320), 32x20 grid, 640 cells, memory=102400.0 kB>\n",
      "\n",
      "Features:\n",
      "\tfLumin\tLuminanceFeature\n",
      "\tfCentr\tCentralBiasFeature\n",
      "\tfSobel\tSobelEdgeFeature\n",
      "\tfMapFe\tMapFeature\n",
      "\tfMapFe1\tMapFeature\n",
      "\n"
     ]
    }
   ],
   "source": [
    "TP_model = FixationModel(TP_fix, TP_grid, chunks=['TRIAL_INDEX', 'image_id'], features=[TP_fLum, TP_fCent, TP_fEdge, TP_fIKN, TP_fReward], dv_type='fixated')\n",
    "print(TP_model)"
   ]
  },
  {
   "cell_type": "markdown",
   "metadata": {},
   "source": [
    "The resulting predictor matrix now contains one row per combination of image and region (and possible other variables used for chunking in the model specification, such as the subject id). Within each row, the column _dvFix_ indicates the fixation state of each cell, i.e., whether it was fixated (1) or not (0), while the remaining columns contain the feature values for the corresponding regions - here, mean cell luminance (fLumin) and distance from image center following an anisotropic Gaussian CB model (fCentr). \n",
    "\n",
    "The predictor matrix can be accessed as a DataFrame using the _predictors_ attribute of the generated model object:"
   ]
  },
  {
   "cell_type": "code",
   "execution_count": 3,
   "metadata": {
    "collapsed": false,
    "deletable": true,
    "editable": true
   },
   "outputs": [
    {
     "name": "stdout",
     "output_type": "stream",
     "text": [
      "       TRIAL_INDEX image_id regionid regionno  dvFix    fLumin    fCentr  \\\n",
      "0                1   575834        1        1    0.0  0.000000  0.976304   \n",
      "1                1   575834        2        2    0.0  0.000000  0.969414   \n",
      "2                1   575834        3        3    0.0  0.141168  0.961189   \n",
      "3                1   575834        4        4    0.0  0.706211  0.951584   \n",
      "4                1   575834        5        5    0.0  0.456245  0.940623   \n",
      "...            ...      ...      ...      ...    ...       ...       ...   \n",
      "208635         331    37367      636      636    0.0  0.108371  0.942654   \n",
      "208636         331    37367      637      637    0.0  0.101557  0.953290   \n",
      "208637         331    37367      638      638    0.0  0.030630  0.962596   \n",
      "208638         331    37367      639      639    0.0  0.000000  0.970555   \n",
      "208639         331    37367      640      640    0.0  0.000000  0.977212   \n",
      "\n",
      "          fSobel    fMapFe   fMapFe1  \n",
      "0       0.000000  0.062745  0.001961  \n",
      "1       0.000000  0.062745  0.005882  \n",
      "2       0.125000  0.062745  0.000368  \n",
      "3       0.015625  0.060784  0.004902  \n",
      "4       0.000000  0.062745  0.007843  \n",
      "...          ...       ...       ...  \n",
      "208635  0.000000  0.043137  0.007905  \n",
      "208636  0.000000  0.043137  0.001822  \n",
      "208637  0.000000  0.043137  0.000371  \n",
      "208638  0.000000  0.043137  0.000000  \n",
      "208639  0.000000  0.043137  0.002347  \n",
      "\n",
      "[208640 rows x 10 columns]\n"
     ]
    }
   ],
   "source": [
    "print(TP_model.predictors)"
   ]
  },
  {
   "cell_type": "markdown",
   "metadata": {},
   "source": [
    "To facilitate analysis of the generated predictor matrix in R, GridFix also generates R source code that contains the necessary commands to import the generated data file, define factors, standardize predictors and set up a model formula. This can serve as a starting point for analysis but should be adapted to the individual factor structure of each hypothesis and dataset - as a reminder, the actual call to _glmer_ is commented out. \n",
    "\n",
    "The _model.save()_ function saves both the predictor matrix and the R code to files to be read into R. Note that the file name argument should be the _base name_ of generated files, e.g., model.save(\"tutorial\") will generate tutorial.csv and tutorial.R."
   ]
  },
  {
   "cell_type": "code",
   "execution_count": 4,
   "metadata": {
    "collapsed": false,
    "deletable": true,
    "editable": true,
    "scrolled": false
   },
   "outputs": [
    {
     "name": "stdout",
     "output_type": "stream",
     "text": [
      "# GridFix GLMM R source, generated on 27.05.24, 02:13:01\n",
      "# \n",
      "# Predictor file:\tgridfix.csv\n",
      "# Fixations file:\tTP_fixations.tsv\n",
      "# RegionSet:\t\t<gridfix.GridRegionSet (TP_grid), size=(512, 320), 32x20 grid, 640 cells, memory=102400.0 kB>\n",
      "# DV type(s):\t\t['fixated']\n",
      "\n",
      "library(lme4)\n",
      "\n",
      "gridfixdata  <- read.table(\"gridfix.csv\", header=T, sep=\"\\t\", row.names=NULL)\n",
      "\n",
      "# Define R factors for all chunking variables and group dummy codes\n",
      "gridfixdata$TRIAL_INDEX <- as.factor(gridfixdata$TRIAL_INDEX)\n",
      "gridfixdata$image_id <- as.factor(gridfixdata$image_id)\n",
      "\n",
      "# Center and scale predictors\n",
      "gridfixdata$fLumin_C <- scale(gridfixdata$fLumin, center=TRUE, scale=TRUE)\n",
      "gridfixdata$fCentr_C <- scale(gridfixdata$fCentr, center=TRUE, scale=TRUE)\n",
      "gridfixdata$fSobel_C <- scale(gridfixdata$fSobel, center=TRUE, scale=TRUE)\n",
      "gridfixdata$fMapFe_C <- scale(gridfixdata$fMapFe, center=TRUE, scale=TRUE)\n",
      "gridfixdata$fMapFe1_C <- scale(gridfixdata$fMapFe1, center=TRUE, scale=TRUE)\n",
      "\n",
      "# NOTE: this source code can only serve as a scaffolding for your own analysis!\n",
      "# You MUST adapt the GLMM model formula below to your model, then uncomment the corresponding line!\n",
      "# DV: fixated\n",
      "#model.fixated <- glmer(dvFix ~ 1 + fLumin_C  + fCentr_C  + fSobel_C  + fMapFe_C  + fMapFe1_C  + (1 | image_id), data=gridfixdata, family=binomial)\n",
      "\n",
      "save(file=\"gridfix_GLMM.Rdata\", list = c(\"model.fixated\"))\n",
      "\n",
      "print(summary(model))\n",
      "\n"
     ]
    }
   ],
   "source": [
    "# Print the source code here as an example\n",
    "print(TP_model.r_source())\n",
    "\n",
    "TP_model.save('TP_model')"
   ]
  }
 ],
 "metadata": {
  "kernelspec": {
   "display_name": "Python 3",
   "language": "python",
   "name": "python3"
  },
  "language_info": {
   "codemirror_mode": {
    "name": "ipython",
    "version": 3
   },
   "file_extension": ".py",
   "mimetype": "text/x-python",
   "name": "python",
   "nbconvert_exporter": "python",
   "pygments_lexer": "ipython3",
   "version": "3.11.7"
  }
 },
 "nbformat": 4,
 "nbformat_minor": 0
}
